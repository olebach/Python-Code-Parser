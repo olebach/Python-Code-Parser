{
 "cells": [
  {
   "cell_type": "markdown",
   "id": "39258ed0",
   "metadata": {},
   "source": [
    "### Libraries"
   ]
  },
  {
   "cell_type": "code",
   "execution_count": 1,
   "id": "c4eed1c6",
   "metadata": {},
   "outputs": [],
   "source": [
    "# Loading data\n",
    "import pickle\n",
    "\n",
    "# Graph\n",
    "import networkx as nx\n",
    "\n",
    "# Plots\n",
    "import dash\n",
    "from dash import Dash, dcc, html, Input, Output\n",
    "\n",
    "# Invocation functions\n",
    "from functions_plot import *"
   ]
  },
  {
   "cell_type": "markdown",
   "id": "85fb7152",
   "metadata": {},
   "source": [
    "## Load data"
   ]
  },
  {
   "cell_type": "code",
   "execution_count": 2,
   "id": "ad199711",
   "metadata": {},
   "outputs": [],
   "source": [
    "# Element profiles\n",
    "with open('3. element.pkl', 'rb') as f: \n",
    "    element_profiles = pickle.load(f) "
   ]
  },
  {
   "cell_type": "code",
   "execution_count": 3,
   "id": "caf74ed3",
   "metadata": {},
   "outputs": [],
   "source": [
    "# Element dependencies\n",
    "with open('4. dependencies.pkl', 'rb') as f: \n",
    "    element_dependencies = pickle.load(f) "
   ]
  },
  {
   "cell_type": "markdown",
   "id": "99ac781d",
   "metadata": {},
   "source": [
    "### Create Graph structure"
   ]
  },
  {
   "cell_type": "code",
   "execution_count": 4,
   "id": "05dffc9b",
   "metadata": {},
   "outputs": [],
   "source": [
    "#-----------------------------\n",
    "# Create empty graph\n",
    "G = nx.DiGraph()\n",
    "\n",
    "#-----------------------------\n",
    "# node_list = []\n",
    "\n",
    "# Add nodes\n",
    "for node in element_profiles:\n",
    "    \n",
    "    # Fetch node properties:\n",
    "    \n",
    "\n",
    "    file_name  = node['file_name']\n",
    "    file_location = node['file_location']\n",
    "    file_lines = node['file_line_number']\n",
    "    node_name = node['element_name'].lower()\n",
    "    node_type = node['element_type']\n",
    "    node_code = node['element_code']\n",
    "    node_attributes = node['Values'] \n",
    "    node_id = file_name + '|' + node_name\n",
    "        \n",
    "\n",
    "    \n",
    "    # check if node already exists:\n",
    "    if G.has_node(node_id):\n",
    "        # fetch code element\n",
    "        node_code_prev = G.nodes[node_id]['node_code']\n",
    "        # Extend code element\n",
    "        G.nodes[node_id]['node_code'] = node_code_prev + '\\n' + node_code\n",
    "        \n",
    "    # otherwise create node:\n",
    "    else:\n",
    "    \n",
    "        # Get optional attributes:\n",
    "        if node_type == 'Code':\n",
    "            element_input = ''\n",
    "            element_comments = ''\n",
    "            element_output = ''\n",
    "        elif node_type == 'Function' or node_type == 'Class':    \n",
    "            element_input = node_attributes['Input_var']\n",
    "            element_comments = node_attributes['Code_comments']\n",
    "            element_output = node_attributes['Output_var']\n",
    "\n",
    "        # output results\n",
    "        G.add_node(node_id,\n",
    "                   # Attributes\n",
    "                   file_name = file_name,\n",
    "                   file_location = file_location,\n",
    "                   file_lines = file_lines,\n",
    "                   node_name = node_name,\n",
    "                   node_type = node_type,\n",
    "                   node_code = node_code,\n",
    "                   attributes_input = element_input,\n",
    "                   attributes_comments = element_comments,\n",
    "                   attributes_output = element_output\n",
    "                  )      \n",
    "    \n",
    "#     # Store node list\n",
    "#     if node_id not in node_list:\n",
    "#         node_list.append(node_id)\n",
    "        \n",
    "#-----------------------------\n",
    "# Add edges to graph\n",
    "for edges in element_dependencies:\n",
    "    \n",
    "    # Fetch\n",
    "    edge_from = edges['function_from'].lower()\n",
    "    edge_to = edges['function_to'].lower()\n",
    "    file_from = edges['file_from']\n",
    "    file_to = edges['file_to']\n",
    "    edge_from_id = file_from + '|' + edge_from\n",
    "    edge_to_id = file_to + '|' + edge_to   \n",
    "    \n",
    "        \n",
    "    # check if edge already exists\n",
    "    if G.has_edge(edge_from_id, edge_to_id):\n",
    "        # Fetch attributes\n",
    "        attribute = G[edge_from_id][edge_to_id][\"invocation\"]\n",
    "        # Extend values\n",
    "        attribute.append(edges['values']) \n",
    "        # Modify edge\n",
    "        G[edge_from_id][edge_to_id][\"invocation\"] = attribute\n",
    "        \n",
    "    else:\n",
    "        # Create edge\n",
    "        G.add_edge(edge_from_id, edge_to_id, \n",
    "                   # Attributes\n",
    "                   invocation = [edges['values']],\n",
    "                   edge_from = edge_from,\n",
    "                   edge_to = edge_to,\n",
    "                   file_from = file_from,\n",
    "                   file_to = file_to\n",
    "                  )\n",
    "        \n",
    "\n",
    "# Add positions to the graph\n",
    "pos = get_coordinates(G)\n",
    "nx.set_node_attributes(G, pos, 'pos') "
   ]
  },
  {
   "cell_type": "markdown",
   "id": "e2c5e42c",
   "metadata": {},
   "source": [
    "### Dash plot"
   ]
  },
  {
   "cell_type": "code",
   "execution_count": 5,
   "id": "e60ee089",
   "metadata": {},
   "outputs": [],
   "source": [
    "# network trace\n",
    "edge_trace = get_edge_trace(G)\n",
    "node_trace = get_node_trace(G)\n",
    "\n",
    "fig_net = plot_graph(edge_trace, node_trace)"
   ]
  },
  {
   "cell_type": "code",
   "execution_count": 6,
   "id": "15f83123",
   "metadata": {},
   "outputs": [],
   "source": [
    "# Get Table\n",
    "df = get_code_table(G)\n",
    "\n",
    "# Table trace\n",
    "fig_table  = draw_table(df)"
   ]
  },
  {
   "cell_type": "code",
   "execution_count": 8,
   "id": "5799710c",
   "metadata": {},
   "outputs": [
    {
     "name": "stdout",
     "output_type": "stream",
     "text": [
      "Dash is running on http://127.0.0.1:8050/\n",
      "\n",
      " * Serving Flask app \"__main__\" (lazy loading)\n",
      " * Environment: production\n",
      "\u001b[31m   WARNING: This is a development server. Do not use it in a production deployment.\u001b[0m\n",
      "\u001b[2m   Use a production WSGI server instead.\u001b[0m\n",
      " * Debug mode: off\n"
     ]
    },
    {
     "name": "stderr",
     "output_type": "stream",
     "text": [
      " * Running on http://127.0.0.1:8050/ (Press CTRL+C to quit)\n",
      "127.0.0.1 - - [13/Apr/2023 15:05:34] \"GET / HTTP/1.1\" 200 -\n",
      "127.0.0.1 - - [13/Apr/2023 15:05:34] \"GET /_dash-layout HTTP/1.1\" 200 -\n",
      "127.0.0.1 - - [13/Apr/2023 15:05:34] \"GET /_dash-dependencies HTTP/1.1\" 200 -\n",
      "127.0.0.1 - - [13/Apr/2023 15:05:34] \"GET /_dash-component-suites/dash/dcc/async-graph.js HTTP/1.1\" 200 -\n",
      "127.0.0.1 - - [13/Apr/2023 15:05:34] \"GET /_dash-component-suites/dash/dash_table/async-highlight.js HTTP/1.1\" 200 -\n",
      "127.0.0.1 - - [13/Apr/2023 15:05:34] \"GET /_dash-component-suites/dash/dcc/async-plotlyjs.js HTTP/1.1\" 200 -\n",
      "127.0.0.1 - - [13/Apr/2023 15:05:34] \"GET /_dash-component-suites/dash/dash_table/async-table.js HTTP/1.1\" 200 -\n",
      "127.0.0.1 - - [13/Apr/2023 15:05:35] \"POST /_dash-update-component HTTP/1.1\" 200 -\n"
     ]
    },
    {
     "name": "stdout",
     "output_type": "stream",
     "text": [
      "Table -> Scatter\n",
      "{Name} scontains main\n"
     ]
    },
    {
     "name": "stderr",
     "output_type": "stream",
     "text": [
      "127.0.0.1 - - [13/Apr/2023 15:05:39] \"POST /_dash-update-component HTTP/1.1\" 200 -\n",
      "127.0.0.1 - - [13/Apr/2023 15:06:19] \"POST /_dash-update-component HTTP/1.1\" 200 -\n"
     ]
    },
    {
     "name": "stdout",
     "output_type": "stream",
     "text": [
      "Table -> Scatter\n",
      "{Name} scontains \"Name: main.py\"\n"
     ]
    }
   ],
   "source": [
    "# Server start\n",
    "app = Dash()\n",
    "\n",
    "#======================================================================\n",
    "# Dash plot\n",
    "app.layout = html.Div(children = \n",
    "                      [# Reset button\n",
    "                          html.Button('Reset Graphs', \n",
    "                                      id='reset_button', \n",
    "                                      n_clicks=0,\n",
    "                                      style={'height': '3vh'}), \n",
    "                       # Plot\n",
    "                          dcc.Graph(id='network', \n",
    "                                 figure=fig_net,\n",
    "                                 style={'width': '100vw',\n",
    "                                       'height': '43vh'}),\n",
    "                       \n",
    "                       # Table\n",
    "                          fig_table                     \n",
    "                      ])                   \n",
    "    \n",
    "#======================================================================\n",
    "# Callbacks\n",
    "@app.callback([Output('reset_button','n_clicks'), Output('table', 'filter_query'), Output('network', 'selectedData'), Output('network', 'figure')],\n",
    "              [Input('reset_button','n_clicks'), Input('table', 'filter_query'), Input('network', 'selectedData')])\n",
    "def update_figures(n_clicks, filter_query, selectedData):\n",
    "    \n",
    "    # 1. If reset is clicked - restart table and scatter\n",
    "    if n_clicks is not None and n_clicks > 0:  \n",
    "        return 0, '', None, fig_net  \n",
    "    \n",
    "    # 2. If filter is applied to Network -> update Table\n",
    "    elif selectedData is not None:\n",
    "        selected_query = update_query(selectedData)\n",
    "        if filter_query != '':            \n",
    "            full_query = '(' + filter_query + ') and (' + selected_query + ')' # Data selected based on query and scatter\n",
    "            return dash.no_update, full_query, dash.no_update, dash.no_update\n",
    "        else:\n",
    "            return dash.no_update, selected_query, None, dash.no_update\n",
    "        \n",
    "    # 3. If filter is applied to Table - update Network\n",
    "    elif filter_query is not None and filter_query != '': \n",
    "        fig_updated = update_scatter(filter_query, fig_net, df)\n",
    "        return dash.no_update, dash.no_update,  None, fig_updated\n",
    "    \n",
    "    # 4. If filter query is reset - update Network\n",
    "    elif filter_query == '' and selectedData is None:\n",
    "        return dash.no_update, dash.no_update,  None, fig_net        \n",
    "    \n",
    "    # 5. No change\n",
    "    else:\n",
    "        raise dash.exceptions.PreventUpdate\n",
    "\n",
    "#======================================================================\n",
    "app.run_server(debug=False)    "
   ]
  },
  {
   "cell_type": "code",
   "execution_count": null,
   "id": "1de2b237",
   "metadata": {},
   "outputs": [],
   "source": []
  },
  {
   "cell_type": "code",
   "execution_count": null,
   "id": "f990879b",
   "metadata": {},
   "outputs": [],
   "source": []
  }
 ],
 "metadata": {
  "kernelspec": {
   "display_name": "Python 3 (ipykernel)",
   "language": "python",
   "name": "python3"
  },
  "language_info": {
   "codemirror_mode": {
    "name": "ipython",
    "version": 3
   },
   "file_extension": ".py",
   "mimetype": "text/x-python",
   "name": "python",
   "nbconvert_exporter": "python",
   "pygments_lexer": "ipython3",
   "version": "3.9.13"
  }
 },
 "nbformat": 4,
 "nbformat_minor": 5
}
