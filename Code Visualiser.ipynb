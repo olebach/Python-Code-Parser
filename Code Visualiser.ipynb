{
 "cells": [
  {
   "cell_type": "markdown",
   "id": "39258ed0",
   "metadata": {},
   "source": [
    "### Libraries"
   ]
  },
  {
   "cell_type": "code",
   "execution_count": 8,
   "id": "c4eed1c6",
   "metadata": {},
   "outputs": [],
   "source": [
    "# Loading data\n",
    "import pickle\n",
    "\n",
    "# Graph\n",
    "import networkx as nx\n",
    "\n",
    "# Plots\n",
    "import dash\n",
    "from dash import Dash, dcc, html, Input, Output\n",
    "\n",
    "# Invocation functions\n",
    "from functions_plot import get_coordinates, traverse_node, get_code_table, get_sucessors, draw_table, get_edge_trace, get_node_trace, plot_graph,update_query,update_scatter,split_filter_part"
   ]
  },
  {
   "cell_type": "markdown",
   "id": "85fb7152",
   "metadata": {},
   "source": [
    "## Load data"
   ]
  },
  {
   "cell_type": "code",
   "execution_count": 9,
   "id": "ad199711",
   "metadata": {},
   "outputs": [],
   "source": [
    "# Element profiles\n",
    "with open('2. element_profile.pkl', 'rb') as f: \n",
    "    element_profiles = pickle.load(f) "
   ]
  },
  {
   "cell_type": "code",
   "execution_count": 10,
   "id": "caf74ed3",
   "metadata": {},
   "outputs": [],
   "source": [
    "# Element dependencies\n",
    "with open('3. element_dependencies.pkl', 'rb') as f: \n",
    "    element_dependencies = pickle.load(f) "
   ]
  },
  {
   "cell_type": "markdown",
   "id": "99ac781d",
   "metadata": {},
   "source": [
    "### Create Graph structure"
   ]
  },
  {
   "cell_type": "code",
   "execution_count": 4,
   "id": "6ccb7506",
   "metadata": {},
   "outputs": [],
   "source": [
    "#-----------------------------\n",
    "# Create graph\n",
    "G = nx.DiGraph()\n",
    "\n",
    "#-----------------------------\n",
    "# nodelist\n",
    "node_list = []\n",
    "\n",
    "# Add nodes\n",
    "for node in element_profiles:\n",
    "    \n",
    "    # Fetch node properties:\n",
    "    node_type = node['Function_type']\n",
    "    node_name = node['Function_name'].lower()\n",
    "    node_code = node['Function_code']\n",
    "    \n",
    "    # ignore imports\n",
    "    if node_type == 'Import':\n",
    "        continue\n",
    "\n",
    "    # check if node already exists:\n",
    "    if G.has_node(node_name):\n",
    "        # fetch code element\n",
    "        node_code_prev = G.nodes[node_name]['element_code']\n",
    "        # Extend code element\n",
    "        G.nodes[node_name]['element_code'] = node_code_prev + '\\n' + node_code\n",
    "        \n",
    "    # otherwise create node:\n",
    "    else:\n",
    "    \n",
    "        # Get optional attributes:\n",
    "        if node_type == 'Code':\n",
    "            element_input = ''\n",
    "            element_comments = ''\n",
    "            element_output = ''\n",
    "        elif node['Function_type'] == 'Function' or node['Function_type'] == 'Class':    \n",
    "            element_input = node['Function_values']['Input_var']\n",
    "            element_comments = node['Function_values']['Code_comments']\n",
    "            element_output = node['Function_values']['Output_var']\n",
    "\n",
    "        # output results\n",
    "        G.add_node(node_name,\n",
    "                   \n",
    "                   # Attributes\n",
    "                   file_name = node['File_name'],\n",
    "                   file_location = node['File_location'],\n",
    "                   file_lines = node['File_lines'],\n",
    "                   element_type = node_type,\n",
    "                   element_code = node_code,\n",
    "                   element_input = element_input,\n",
    "                   element_comments = element_comments,\n",
    "                   element_output = element_output\n",
    "                  )      \n",
    "    \n",
    "        # Store node list\n",
    "        node_list.append(node['Function_name'].lower())\n",
    "       \n",
    "        \n",
    "#-----------------------------\n",
    "# Add edges to graph\n",
    "for edges in element_dependencies:\n",
    "    \n",
    "    # Fetch \n",
    "    edge_from = edges['function_from'].lower()\n",
    "    edge_to = edges['function_to'].lower()\n",
    "        \n",
    "    # check if edge already exists\n",
    "    if G.has_edge(edge_from, edge_to):\n",
    "        # Fetch attributes\n",
    "        attribute = G[edge_from][edge_to][\"invocation\"]\n",
    "        # Extend values\n",
    "        attribute.append(edges['values']) \n",
    "        # Modify edge\n",
    "        G[edge_from][edge_to][\"invocation\"] = attribute\n",
    "        \n",
    "    else:\n",
    "        # Create edge\n",
    "        G.add_edge(edge_from.lower(), edge_to.lower(), \n",
    "                   # Attributes\n",
    "                   invocation = [edges['values']])\n",
    "        \n",
    "\n",
    "# Add positions to the graph\n",
    "pos = get_coordinates(G)\n",
    "nx.set_node_attributes(G, pos, 'pos') "
   ]
  },
  {
   "cell_type": "markdown",
   "id": "e2c5e42c",
   "metadata": {},
   "source": [
    "### Dash plot"
   ]
  },
  {
   "cell_type": "code",
   "execution_count": 5,
   "id": "e60ee089",
   "metadata": {},
   "outputs": [],
   "source": [
    "# network trace\n",
    "edge_trace = get_edge_trace(G)\n",
    "node_trace = get_node_trace(G)\n",
    "\n",
    "fig_net = plot_graph(edge_trace, node_trace)"
   ]
  },
  {
   "cell_type": "code",
   "execution_count": 6,
   "id": "36a42f49",
   "metadata": {},
   "outputs": [],
   "source": [
    "# Get Table\n",
    "df = get_code_table(G)\n",
    "\n",
    "\n",
    "# Table trace\n",
    "fig_table  = draw_table(df)"
   ]
  },
  {
   "cell_type": "code",
   "execution_count": 7,
   "id": "5799710c",
   "metadata": {},
   "outputs": [
    {
     "name": "stdout",
     "output_type": "stream",
     "text": [
      "Dash is running on http://127.0.0.1:8050/\n",
      "\n",
      " * Serving Flask app \"__main__\" (lazy loading)\n",
      " * Environment: production\n",
      "\u001b[31m   WARNING: This is a development server. Do not use it in a production deployment.\u001b[0m\n",
      "\u001b[2m   Use a production WSGI server instead.\u001b[0m\n",
      " * Debug mode: off\n"
     ]
    },
    {
     "name": "stderr",
     "output_type": "stream",
     "text": [
      " * Running on http://127.0.0.1:8050/ (Press CTRL+C to quit)\n",
      "127.0.0.1 - - [11/Apr/2023 16:26:30] \"GET / HTTP/1.1\" 200 -\n",
      "127.0.0.1 - - [11/Apr/2023 16:26:30] \"GET /_dash-layout HTTP/1.1\" 200 -\n",
      "127.0.0.1 - - [11/Apr/2023 16:26:30] \"GET /_dash-dependencies HTTP/1.1\" 200 -\n",
      "127.0.0.1 - - [11/Apr/2023 16:26:30] \"GET /_dash-component-suites/dash/dcc/async-graph.js HTTP/1.1\" 200 -\n",
      "127.0.0.1 - - [11/Apr/2023 16:26:30] \"GET /_dash-component-suites/dash/dash_table/async-highlight.js HTTP/1.1\" 200 -\n",
      "127.0.0.1 - - [11/Apr/2023 16:26:30] \"GET /_dash-component-suites/dash/dash_table/async-table.js HTTP/1.1\" 200 -\n",
      "127.0.0.1 - - [11/Apr/2023 16:26:30] \"GET /_dash-component-suites/dash/dcc/async-plotlyjs.js HTTP/1.1\" 200 -\n",
      "127.0.0.1 - - [11/Apr/2023 16:26:31] \"POST /_dash-update-component HTTP/1.1\" 200 -\n"
     ]
    }
   ],
   "source": [
    "# Server start\n",
    "app = Dash()\n",
    "\n",
    "#======================================================================\n",
    "# Dash plot\n",
    "app.layout = html.Div(children = \n",
    "                      [# Reset button\n",
    "                          html.Button('Reset Graphs', \n",
    "                                      id='reset_button', \n",
    "                                      n_clicks=0,\n",
    "                                      style={'height': '3vh'}), \n",
    "                       # Plot\n",
    "                          dcc.Graph(id='network', \n",
    "                                 figure=fig_net,\n",
    "                                 style={'width': '100vw',\n",
    "                                       'height': '43vh'}),\n",
    "                       \n",
    "                       # Table\n",
    "                          fig_table                     \n",
    "                      ])                   \n",
    "    \n",
    "#======================================================================\n",
    "# Callbacks\n",
    "@app.callback([Output('reset_button','n_clicks'), Output('table', 'filter_query'), Output('network', 'selectedData'), Output('network', 'figure')],\n",
    "              [Input('reset_button','n_clicks'), Input('table', 'filter_query'), Input('network', 'selectedData')])\n",
    "def update_figures(n_clicks, filter_query, selectedData):\n",
    "    \n",
    "    # 1. If reset is clicked - restart table and scatter\n",
    "    if n_clicks is not None and n_clicks > 0:  \n",
    "        return 0, '', None, fig_net  \n",
    "    \n",
    "    # 2. If filter is applied to Network -> update Table\n",
    "    elif selectedData is not None:\n",
    "        selected_query = update_query(selectedData)\n",
    "        if filter_query != '':            \n",
    "            full_query = '(' + filter_query + ') and (' + selected_query + ')' # Data selected based on query and scatter\n",
    "            return dash.no_update, full_query, dash.no_update, dash.no_update\n",
    "        else:\n",
    "            return dash.no_update, selected_query, None, dash.no_update\n",
    "        \n",
    "    # 3. If filter is applied to Table - update Network\n",
    "    elif filter_query is not None and filter_query != '': \n",
    "        fig_updated = update_scatter(filter_query, fig_net, df)\n",
    "        return dash.no_update, dash.no_update,  None, fig_updated\n",
    "    \n",
    "    # 4. If filter query is reset - update Network\n",
    "    elif filter_query == '' and selectedData is None:\n",
    "        return dash.no_update, dash.no_update,  None, fig_net        \n",
    "    \n",
    "    # 5. No change\n",
    "    else:\n",
    "        raise dash.exceptions.PreventUpdate\n",
    "\n",
    "#======================================================================\n",
    "app.run_server(debug=False)    "
   ]
  },
  {
   "cell_type": "code",
   "execution_count": null,
   "id": "1de2b237",
   "metadata": {},
   "outputs": [],
   "source": []
  },
  {
   "cell_type": "code",
   "execution_count": null,
   "id": "f990879b",
   "metadata": {},
   "outputs": [],
   "source": []
  }
 ],
 "metadata": {
  "kernelspec": {
   "display_name": "Python 3 (ipykernel)",
   "language": "python",
   "name": "python3"
  },
  "language_info": {
   "codemirror_mode": {
    "name": "ipython",
    "version": 3
   },
   "file_extension": ".py",
   "mimetype": "text/x-python",
   "name": "python",
   "nbconvert_exporter": "python",
   "pygments_lexer": "ipython3",
   "version": "3.9.13"
  }
 },
 "nbformat": 4,
 "nbformat_minor": 5
}
