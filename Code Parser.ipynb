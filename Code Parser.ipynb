{
 "cells": [
  {
   "cell_type": "markdown",
   "id": "3edeb27c",
   "metadata": {},
   "source": [
    "### Libraries"
   ]
  },
  {
   "cell_type": "code",
   "execution_count": 1,
   "id": "e56c8e52",
   "metadata": {},
   "outputs": [],
   "source": [
    "from functions import get_filepaths, read_input, process_elements, parse_elements, extract_element_values, extract_import_values, get_dependencies\n",
    "\n",
    "import os\n",
    "\n",
    "import pickle "
   ]
  },
  {
   "cell_type": "markdown",
   "id": "1c4afeab",
   "metadata": {},
   "source": [
    "### Specify Path"
   ]
  },
  {
   "cell_type": "code",
   "execution_count": 2,
   "id": "6b4e3e46",
   "metadata": {},
   "outputs": [],
   "source": [
    "# Specify root directory\n",
    "rootdir = r'C:\\Users\\ED61UW\\Downloads\\Work\\Repos\\P02763-Project_Finance_Simulation_Engine'"
   ]
  },
  {
   "cell_type": "markdown",
   "id": "552ca341",
   "metadata": {},
   "source": [
    "### Invocation"
   ]
  },
  {
   "cell_type": "code",
   "execution_count": 3,
   "id": "7eb5c1eb",
   "metadata": {
    "scrolled": true
   },
   "outputs": [],
   "source": [
    "# 0. Output structures:\n",
    "output_code_dict = {\n",
    "    'file_name' : [],\n",
    "    'file_location' : [],\n",
    "    'element_line_number' : [],\n",
    "    'element_name' : [],\n",
    "    'element_type' : [],\n",
    "    'element_code' : []\n",
    "}\n",
    "output_element_profile_list = []\n",
    "output_dependency_name_list = []\n",
    "\n",
    "# 1. Create list of all subdirectories + file names\n",
    "full_file_paths = get_filepaths(rootdir, \n",
    "                                file_extention = 'py')\n",
    "\n",
    "# 2. loop through all files\n",
    "for folder_directory in full_file_paths:\n",
    "\n",
    "    # 3. Read file into string\n",
    "    code_strings = read_input(folder_directory)\n",
    "\n",
    "    # 4. Fetch file name and location:\n",
    "    file_path = folder_directory.replace(rootdir, '')\n",
    "    file_name = os.path.split(folder_directory)[-1]\n",
    "\n",
    "    # 5. Segment code into elements\n",
    "    code_dict = process_elements(code_strings, file_name, file_path)\n",
    "    \n",
    "    # 6. Process elements and create a profile for them:\n",
    "    element_profile_list, dependency_name_list = parse_elements(code_dict)\n",
    "\n",
    "    # 7. Output information\n",
    "    for key in code_dict.keys():\n",
    "        output_code_dict[key].extend(code_dict[key])\n",
    "    output_element_profile_list.extend(element_profile_list)\n",
    "    output_dependency_name_list.extend(dependency_name_list)\n",
    "    \n",
    "# 8. Get dependencies between elements\n",
    "dependency_list = get_dependencies(output_code_dict, output_dependency_name_list)"
   ]
  },
  {
   "cell_type": "markdown",
   "id": "127820fe",
   "metadata": {},
   "source": [
    "### Store results"
   ]
  },
  {
   "cell_type": "code",
   "execution_count": 7,
   "id": "1ce8f924",
   "metadata": {},
   "outputs": [],
   "source": [
    "# Code segmentation\n",
    "with open('1. code_dict.pkl', 'wb') as f: \n",
    "    pickle.dump(output_code_dict, f) "
   ]
  },
  {
   "cell_type": "code",
   "execution_count": 8,
   "id": "7dde8b96",
   "metadata": {},
   "outputs": [],
   "source": [
    "# Element profiles\n",
    "with open('2. element_profile.pkl', 'wb') as f: \n",
    "    pickle.dump(output_element_profile_list, f) "
   ]
  },
  {
   "cell_type": "code",
   "execution_count": 9,
   "id": "8b80bb76",
   "metadata": {},
   "outputs": [],
   "source": [
    "# Element dependencies\n",
    "with open('3. element_dependencies.pkl', 'wb') as f: \n",
    "    pickle.dump(dependency_list, f) "
   ]
  },
  {
   "cell_type": "code",
   "execution_count": null,
   "id": "39546b32",
   "metadata": {},
   "outputs": [],
   "source": []
  }
 ],
 "metadata": {
  "kernelspec": {
   "display_name": "Python 3 (ipykernel)",
   "language": "python",
   "name": "python3"
  },
  "language_info": {
   "codemirror_mode": {
    "name": "ipython",
    "version": 3
   },
   "file_extension": ".py",
   "mimetype": "text/x-python",
   "name": "python",
   "nbconvert_exporter": "python",
   "pygments_lexer": "ipython3",
   "version": "3.9.13"
  }
 },
 "nbformat": 4,
 "nbformat_minor": 5
}
