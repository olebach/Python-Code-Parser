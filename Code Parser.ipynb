{
 "cells": [
  {
   "cell_type": "markdown",
   "id": "3edeb27c",
   "metadata": {},
   "source": [
    "### Libraries"
   ]
  },
  {
   "cell_type": "code",
   "execution_count": 1,
   "id": "e56c8e52",
   "metadata": {},
   "outputs": [],
   "source": [
    "# All functions for processsing\n",
    "from functions import *\n",
    "\n",
    "# Reading file locations\n",
    "import os\n",
    "\n",
    "# Outputting data\n",
    "import pickle "
   ]
  },
  {
   "cell_type": "markdown",
   "id": "1c4afeab",
   "metadata": {},
   "source": [
    "### Specify Path"
   ]
  },
  {
   "cell_type": "code",
   "execution_count": 2,
   "id": "6b4e3e46",
   "metadata": {},
   "outputs": [],
   "source": [
    "# Specify root directory\n",
    "rootdir = r'C:\\Users\\ED61UW\\Downloads\\Work\\Repos\\P02763-Project_Finance_Simulation_Engine'\n",
    "\n",
    "# Specify what files to search for\n",
    "file_extention = 'py'"
   ]
  },
  {
   "cell_type": "markdown",
   "id": "552ca341",
   "metadata": {},
   "source": [
    "### Invocation"
   ]
  },
  {
   "cell_type": "code",
   "execution_count": 3,
   "id": "c7d3af03",
   "metadata": {},
   "outputs": [],
   "source": [
    "# 0. Output \n",
    "output_code_list = []\n",
    "output_import_dict = {}\n",
    "output_element_profile_list = []\n",
    "output_dependency_dict = {}\n",
    "\n",
    "# 1. Create list of all subdirectories + file names\n",
    "full_file_paths = get_filepaths(rootdir, file_extention)\n",
    "\n",
    "# 2. loop through all files\n",
    "for folder_directory in full_file_paths:\n",
    "\n",
    "    # 3. Read file into string\n",
    "    code_strings = read_input(folder_directory)\n",
    "\n",
    "    # 4. Fetch file name and location:\n",
    "    file_path = folder_directory.replace(rootdir, '')\n",
    "    file_name = os.path.split(folder_directory)[-1]\n",
    "\n",
    "    # 5. Segment code into elements\n",
    "    code_list = get_elements(code_strings, file_name, file_path)\n",
    "\n",
    "    # 6. Create information about imports used in each file:\n",
    "    import_dict = get_imports(code_list, file_name, file_path)\n",
    "\n",
    "    # 7. Process elements and create a profile for them:\n",
    "    element_profile_list, dependency_name_dict = profile_elements(code_list)\n",
    "\n",
    "    # 8. Output information\n",
    "    output_code_list.extend(code_list) # codes\n",
    "    output_import_dict[file_name] = import_dict # imports\n",
    "    output_element_profile_list.extend(element_profile_list) # Functions \n",
    "    for key, value in dependency_name_dict.items():\n",
    "        output_dependency_dict[key] = output_dependency_dict.get(key, []) + [value[0]] # Dependencies\n",
    "        \n",
    "        \n",
    "# 9. Get dependencies between elements\n",
    "dependency_list = get_dependencies(output_code_list, output_dependency_dict, output_import_dict)"
   ]
  },
  {
   "cell_type": "markdown",
   "id": "127820fe",
   "metadata": {},
   "source": [
    "### Store results"
   ]
  },
  {
   "cell_type": "code",
   "execution_count": 4,
   "id": "1ce8f924",
   "metadata": {},
   "outputs": [],
   "source": [
    "# Codes\n",
    "with open('1. code.pkl', 'wb') as f: \n",
    "    pickle.dump(output_code_list, f) "
   ]
  },
  {
   "cell_type": "code",
   "execution_count": 5,
   "id": "34915c72",
   "metadata": {},
   "outputs": [],
   "source": [
    "# Imports\n",
    "with open('2. import.pkl', 'wb') as f: \n",
    "    pickle.dump(output_import_dict, f) "
   ]
  },
  {
   "cell_type": "code",
   "execution_count": 6,
   "id": "7dde8b96",
   "metadata": {},
   "outputs": [],
   "source": [
    "# Element profiles\n",
    "with open('3. element.pkl', 'wb') as f: \n",
    "    pickle.dump(output_element_profile_list, f) "
   ]
  },
  {
   "cell_type": "code",
   "execution_count": 7,
   "id": "8b80bb76",
   "metadata": {},
   "outputs": [],
   "source": [
    "# Element dependencies\n",
    "with open('4. dependencies.pkl', 'wb') as f: \n",
    "    pickle.dump(dependency_list, f) "
   ]
  },
  {
   "cell_type": "code",
   "execution_count": null,
   "id": "39546b32",
   "metadata": {},
   "outputs": [],
   "source": []
  }
 ],
 "metadata": {
  "kernelspec": {
   "display_name": "Python 3 (ipykernel)",
   "language": "python",
   "name": "python3"
  },
  "language_info": {
   "codemirror_mode": {
    "name": "ipython",
    "version": 3
   },
   "file_extension": ".py",
   "mimetype": "text/x-python",
   "name": "python",
   "nbconvert_exporter": "python",
   "pygments_lexer": "ipython3",
   "version": "3.9.13"
  }
 },
 "nbformat": 4,
 "nbformat_minor": 5
}
